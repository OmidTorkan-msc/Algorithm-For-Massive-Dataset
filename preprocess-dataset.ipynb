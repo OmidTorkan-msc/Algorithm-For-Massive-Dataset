{
 "cells": [
  {
   "cell_type": "markdown",
   "metadata": {
    "colab_type": "text",
    "id": "vrtVPZWlfuln"
   },
   "source": []
  },
  {
   "cell_type": "markdown",
   "metadata": {
    "colab_type": "text",
    "id": "TLBzddBIoAn-"
   },
   "source": [
    "1. connect to google drive to access dataset.\n",
    "\n"
   ]
  },
  {
   "cell_type": "code",
   "execution_count": 0,
   "metadata": {
    "colab": {},
    "colab_type": "code",
    "id": "jtM_aqvwfXKN"
   },
   "outputs": [],
   "source": [
    "from google.colab import drive\n",
    "drive.mount('/content/gdrive', True)"
   ]
  },
  {
   "cell_type": "markdown",
   "metadata": {
    "colab_type": "text",
    "id": "-JUwCOSPf07Y"
   },
   "source": [
    "2.  test connection"
   ]
  },
  {
   "cell_type": "code",
   "execution_count": 0,
   "metadata": {
    "colab": {},
    "colab_type": "code",
    "id": "4DjOA3M5f4rh"
   },
   "outputs": [],
   "source": [
    "# list all folders and files in My Drive\n",
    "! ls '/content/gdrive/My Drive'\n",
    "\n",
    "# define path\n",
    "base_path = '/content/gdrive/My Drive'\n",
    "new_data_set_path = '/content/gdrive/My Drive/final-data-set'"
   ]
  },
  {
   "cell_type": "markdown",
   "metadata": {
    "colab_type": "text",
    "id": "jkMckXAAgLgp"
   },
   "source": [
    "3. read train and test address form text files\n",
    "\n",
    "The text files contain address of images for example in train.txt each row indicate address of a train sample image.\n",
    "\n",
    "\n"
   ]
  },
  {
   "cell_type": "code",
   "execution_count": 0,
   "metadata": {
    "colab": {},
    "colab_type": "code",
    "id": "nVvYOkIVgLsB"
   },
   "outputs": [],
   "source": [
    "# read validation.txt file and put each row in a list element.\n",
    "# split function split file content by \"Enter character\"\n",
    "test_list = open(base_path+'/validation.txt').read().split()\n",
    "# shwo 5 top rows of validation.txt\n",
    "print(\"# shwo 5 top rows of validation.txt\")\n",
    "print(test_list[:5])\n",
    "\n",
    "# read train.txt file and put each row in a list element.\n",
    "# split function split file content by \"Enter character\"\n",
    "train_list = open(base_path+'/train.txt').read().split()\n",
    "# shwo 5 top rows of validation.txt\n",
    "print(\"# shwo 5 top rows of train.txt\")\n",
    "print(train_list[:5])"
   ]
  },
  {
   "cell_type": "markdown",
   "metadata": {
    "colab_type": "text",
    "id": "FFaj6LyLgbgf"
   },
   "source": [
    "4. show a sample image from train and test to validatie that we access images correctly\n"
   ]
  },
  {
   "cell_type": "code",
   "execution_count": 0,
   "metadata": {
    "colab": {},
    "colab_type": "code",
    "id": "xCfQ8h0GggBv"
   },
   "outputs": [],
   "source": [
    "# define a function to get a address and show image and print category value.\n",
    "def show_image_by_cat(relative_address):\n",
    "    # 5/eplus_5_1_0052.png => in this case we get 5 as category value.\n",
    "    category_value = relative_address.split('/')[0]\n",
    "    # read image\n",
    "    img = plt.imread(base_path+'/'+relative_address)\n",
    "    # show image\n",
    "    plt.imshow(img)\n",
    "    plt.title('Turkish banknote: {}'.format(category_value))\n",
    "    plt.show()"
   ]
  },
  {
   "cell_type": "markdown",
   "metadata": {
    "colab_type": "text",
    "id": "PRcyOzIKgnr-"
   },
   "source": [
    "5.show some image for test code"
   ]
  },
  {
   "cell_type": "code",
   "execution_count": 0,
   "metadata": {
    "colab": {},
    "colab_type": "code",
    "id": "nyFz9-OQgn4_"
   },
   "outputs": [],
   "source": [
    "# show first row in train and test data set.\n",
    "show_image_by_cat(train_list[0])\n",
    "show_image_by_cat(test_list[0])"
   ]
  },
  {
   "cell_type": "markdown",
   "metadata": {
    "colab_type": "text",
    "id": "CARwqk9DhBgK"
   },
   "source": [
    " 6. print number of train samples and number of test samples"
   ]
  },
  {
   "cell_type": "code",
   "execution_count": 0,
   "metadata": {
    "colab": {},
    "colab_type": "code",
    "id": "V6-bdhIChBo0"
   },
   "outputs": [],
   "source": [
    "number_of_train = len(train_list)\n",
    "number_of_test = len(test_list)\n",
    "print('number of train samples :', number_of_train, 'number of test samples :', number_of_test)"
   ]
  },
  {
   "cell_type": "markdown",
   "metadata": {
    "colab_type": "text",
    "id": "HFJC_Mt0hU_P"
   },
   "source": [
    "7.resize images and create new dataset with resized images\n"
   ]
  },
  {
   "cell_type": "code",
   "execution_count": 0,
   "metadata": {
    "colab": {},
    "colab_type": "code",
    "id": "onovkhxphVI-"
   },
   "outputs": [],
   "source": [
    "import cv2\n",
    "\n",
    "def resize_image(image_address):\n",
    "    img = cv2.imread(base_path+'/'+image_address)\n",
    "    img_array = Image.fromarray(img, 'RGB')\n",
    "    return img_array.resize((320, 180)) \n",
    "\n",
    "for address in train_list:\n",
    "    resize_image(address).save(new_data_set_path+'/train/'+address)\n",
    "for address in test_list:\n",
    "    resize_image(address).save(new_data_set_path+'/test/'+address)"
   ]
  }
 ],
 "metadata": {
  "colab": {
   "authorship_tag": "ABX9TyNvDpxR6hxBPGULJq3LZUZv",
   "collapsed_sections": [],
   "name": "preprocess-dataset.ipynb",
   "provenance": []
  },
  "kernelspec": {
   "display_name": "Python 3",
   "language": "python",
   "name": "python3"
  },
  "language_info": {
   "codemirror_mode": {
    "name": "ipython",
    "version": 3
   },
   "file_extension": ".py",
   "mimetype": "text/x-python",
   "name": "python",
   "nbconvert_exporter": "python",
   "pygments_lexer": "ipython3",
   "version": "3.7.4"
  }
 },
 "nbformat": 4,
 "nbformat_minor": 1
}
